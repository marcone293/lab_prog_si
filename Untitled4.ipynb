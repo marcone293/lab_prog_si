{
  "nbformat": 4,
  "nbformat_minor": 0,
  "metadata": {
    "colab": {
      "provenance": [],
      "authorship_tag": "ABX9TyOBQTSGISdm/Lg033INZUUg",
      "include_colab_link": true
    },
    "kernelspec": {
      "name": "python3",
      "display_name": "Python 3"
    },
    "language_info": {
      "name": "python"
    }
  },
  "cells": [
    {
      "cell_type": "markdown",
      "metadata": {
        "id": "view-in-github",
        "colab_type": "text"
      },
      "source": [
        "<a href=\"https://colab.research.google.com/github/marcone293/lab_prog_si/blob/main/Untitled4.ipynb\" target=\"_parent\"><img src=\"https://colab.research.google.com/assets/colab-badge.svg\" alt=\"Open In Colab\"/></a>"
      ]
    },
    {
      "cell_type": "code",
      "execution_count": 3,
      "metadata": {
        "id": "ILFhW27k9eKa",
        "colab": {
          "base_uri": "https://localhost:8080/"
        },
        "outputId": "b0b4d76d-a768-4c4e-803d-cdb823fc9882"
      },
      "outputs": [
        {
          "output_type": "stream",
          "name": "stdout",
          "text": [
            "poolhouse\n",
            "POOLHOUSE\n",
            "A letra 'o' aparece 3 vez(es) em 'poolhouse'.\n",
            "2\n",
            "1\n",
            "[11.25, 18.0, 20.0, 10.75, 9.5, 24.5, 15.25]\n",
            "[15.25, 24.5, 9.5, 10.75, 20.0, 18.0, 11.25]\n"
          ]
        }
      ],
      "source": [
        "place = \"poolhouse\"\n",
        "\n",
        "\n",
        "place_up = place.upper()\n",
        "\n",
        "\n",
        "print(place)\n",
        "\n",
        "\n",
        "\n",
        "print(place_up)\n",
        "\n",
        "\n",
        "\n",
        "count_o = place.count(\"o\")\n",
        "\n",
        "\n",
        "print(f\"A letra 'o' aparece {count_o} vez(es) em '{place}'.\")\n",
        "\n",
        "#A letra 'o' aparece 3 vez(es) em 'poolhouse'.\n",
        "\n",
        "#---------------------------------------------------------\n",
        "\n",
        "\n",
        "areas = [11.25, 18.0, 20.0, 10.75, 9.50]\n",
        "\n",
        "\n",
        "print(areas.index(20.0))\n",
        "\n",
        "\n",
        "\n",
        "print(areas.count(9.50))\n",
        "\n",
        "\n",
        "\n",
        "#------------------------------------------------------------\n",
        "\n",
        "\n",
        "areas.append(24.5)\n",
        "areas.append(15.25)\n",
        "\n",
        "\n",
        "print(areas)\n",
        "\n",
        "\n",
        "\n",
        "areas.reverse()\n",
        "\n",
        "\n",
        "print(areas)\n",
        "\n",
        "\n",
        "\n",
        "#------------------------------------------------------------------------------\n",
        ""
      ]
    }
  ]
}